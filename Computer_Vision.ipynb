{
  "nbformat": 4,
  "nbformat_minor": 0,
  "metadata": {
    "accelerator": "GPU",
    "colab": {
      "name": "Computer_Vision",
      "provenance": [],
      "collapsed_sections": []
    },
    "kernelspec": {
      "display_name": "Python 3",
      "name": "python3"
    },
    "language_info": {
      "name": "python"
    }
  },
  "cells": [
    {
      "cell_type": "code",
      "metadata": {
        "id": "95PvYIvSDhHk"
      },
      "source": [
        "import cv2\n",
        "import numpy as np\n",
        "import matplotlib.pyplot as plt\n",
        "import tensorflow as tf\n",
        "from sklearn import metrics\n",
        "from sklearn import preprocessing\n",
        "from sklearn import svm\n",
        "from sklearn.ensemble import RandomForestClassifier\n",
        "from sklearn.tree import DecisionTreeClassifier\n",
        "from sklearn.linear_model import LogisticRegression\n",
        "from sklearn.model_selection import train_test_split\n",
        "from sklearn.preprocessing import StandardScaler,label_binarize\n",
        "from sklearn.metrics import confusion_matrix,accuracy_score,roc_curve,classification_report,auc,roc_auc_score\n",
        "from sklearn.multiclass import OneVsRestClassifier"
      ],
      "execution_count": null,
      "outputs": []
    },
    {
      "cell_type": "code",
      "metadata": {
        "id": "KYY47wBHRBEy"
      },
      "source": [
        "(train_x,train_y),(test_x,test_y) = tf.keras.datasets.cifar10.load_data()"
      ],
      "execution_count": null,
      "outputs": []
    },
    {
      "cell_type": "code",
      "metadata": {
        "id": "eZ3fxRwyT0Yo"
      },
      "source": [
        "X = np.concatenate((train_x,test_x))\n",
        "Y = np.concatenate((train_y,test_y))\n",
        "\n",
        "train_x, test_x, train_y, test_y = train_test_split(X,Y,test_size=0.2)\n",
        "\n",
        "train_x = train_x[0:16000]\n",
        "test_x = test_x[0:4000]\n",
        "train_y = train_y[0:16000]\n",
        "test_y = test_y[0:4000]\n",
        "\n",
        "print(\"Training Samples : \",train_x.shape[0])\n",
        "print(\"Testing Samples : \",test_x.shape[0])"
      ],
      "execution_count": null,
      "outputs": []
    },
    {
      "cell_type": "code",
      "metadata": {
        "id": "OwOvimRJRUwN"
      },
      "source": [
        "x_train = np.reshape(train_x, (train_x.shape[0], -1))\n",
        "x_test = np.reshape(test_x, (test_x.shape[0], -1))"
      ],
      "execution_count": null,
      "outputs": []
    },
    {
      "cell_type": "code",
      "metadata": {
        "id": "RVuQyl_v46R-"
      },
      "source": [
        "def Report(train_y,test_y,pred_y,pred_train):\n",
        "\n",
        "  error = 1 - accuracy_score(train_y,pred_train)\n",
        "  print(\"Training error {}\".format(error))\n",
        "\n",
        "  error = 1 - accuracy_score(test_y,pred_y)\n",
        "  print(\"Testing error {}\".format(error))\n",
        "\n",
        "  print(\"\\n\",\"Confusion Matrix\\n\",confusion_matrix(test_y,pred_y))\n",
        "\n",
        "  print(\"\\n\",\"Classification Report\\n\",classification_report(test_y,pred_y))\n"
      ],
      "execution_count": null,
      "outputs": []
    },
    {
      "cell_type": "code",
      "metadata": {
        "id": "ZZeJF1QNACWm"
      },
      "source": [
        "def plot_ROC(y_test,y_score,x):\n",
        "    fpr = dict()\n",
        "    tpr = dict()\n",
        "    roc_auc = dict()\n",
        "    for i in range(10):\n",
        "        fpr[i], tpr[i], _ = roc_curve(y_test[:, i], y_score[:, i])\n",
        "        roc_auc[i] = auc(fpr[i], tpr[i])\n",
        "\n",
        "    fpr[\"micro\"], tpr[\"micro\"], _ = roc_curve(y_test.ravel(), y_score.ravel())\n",
        "    roc_auc[\"micro\"] = auc(fpr[\"micro\"], tpr[\"micro\"])\n",
        "\n",
        "    plt.figure()\n",
        "\n",
        "    plt.plot(fpr[2], tpr[2], color='darkorange', lw=2, label='ROC curve (area = %0.2f)' % roc_auc[2])\n",
        "    plt.plot([0, 1], [0, 1], color='navy', lw=2, linestyle='--')\n",
        "    plt.xlim([0.0, 1.0])\n",
        "    plt.ylim([0.0, 1.05])\n",
        "    plt.xlabel('False Positive Rate')\n",
        "    plt.ylabel('True Positive Rate')\n",
        "    plt.title('ROC Curve of '+x)\n",
        "    plt.legend(loc=\"lower right\")\n",
        "    plt.show()\n"
      ],
      "execution_count": null,
      "outputs": []
    },
    {
      "cell_type": "code",
      "metadata": {
        "id": "X7zkViZ4mjP4"
      },
      "source": [
        "y_train = label_binarize(train_y, classes=[*range(10)])\n",
        "y_test = label_binarize(test_y, classes=[*range(10)])"
      ],
      "execution_count": null,
      "outputs": []
    },
    {
      "cell_type": "code",
      "metadata": {
        "id": "VT1CyShNEOb4"
      },
      "source": [
        "clf = svm.SVC(probability = False, kernel = 'rbf')\n",
        "clf.fit(x_train,train_y.ravel())\n",
        "\n",
        "pred_y = clf.predict(x_test)\n",
        "pred_train = clf.predict(x_train)\n",
        "\n",
        "Report(train_y,test_y,pred_y,pred_train)\n",
        "\n",
        "clf = OneVsRestClassifier(svm.SVC(kernel = 'rbf'))\n",
        "clf.fit(x_train,y_train)\n",
        "y_score = clf.decision_function(x_test)\n",
        "plot_ROC(y_test,y_score,'Support Vector Machine')"
      ],
      "execution_count": null,
      "outputs": []
    },
    {
      "cell_type": "code",
      "metadata": {
        "id": "7fsGH5xgaYHd"
      },
      "source": [
        "n=12\n",
        "clf = RandomForestClassifier(max_depth=n ,n_estimators=100, criterion = 'entropy' ,random_state=0)\n",
        "clf.fit(x_train,train_y.ravel())\n",
        "\n",
        "pred_y = clf.predict(x_test)\n",
        "pred_train = clf.predict(x_train)\n",
        "\n",
        "Report(train_y,test_y,pred_y,pred_train)\n",
        "\n",
        "clf2 = OneVsRestClassifier(RandomForestClassifier(max_depth=n, n_estimators=100, criterion = 'entropy', random_state = 0))\n",
        "clf2.fit(x_train,y_train)\n",
        "y_score = clf2.predict_proba(x_test)\n",
        "plot_ROC(y_test,y_score,'Random Forests')"
      ],
      "execution_count": null,
      "outputs": []
    },
    {
      "cell_type": "code",
      "metadata": {
        "id": "BY0Nuf7Ta64X"
      },
      "source": [
        "clf = DecisionTreeClassifier(random_state=0)\n",
        "clf.fit(x_train,train_y)\n",
        "\n",
        "pred_y = clf.predict(x_test)\n",
        "pred_train = clf.predict(x_train)\n",
        "\n",
        "Report(train_y,test_y,pred_y,pred_train)\n",
        "\n",
        "clf3 = OneVsRestClassifier(DecisionTreeClassifier(random_state = 0))\n",
        "clf3.fit(x_train,y_train)\n",
        "y_score = clf3.predict_proba(x_test)\n",
        "plot_ROC(y_test,y_score,'Decision Tree')"
      ],
      "execution_count": null,
      "outputs": []
    },
    {
      "cell_type": "code",
      "metadata": {
        "id": "60n6veybbMlO"
      },
      "source": [
        "clf = LogisticRegression(random_state=0,max_iter=100000)\n",
        "clf.fit(x_train,train_y.ravel())\n",
        "\n",
        "pred_y = clf.predict(x_test)\n",
        "pred_train = clf.predict(x_train)\n",
        "\n",
        "Report(train_y,test_y,pred_y,pred_train)\n",
        "\n",
        "clf4 = OneVsRestClassifier(LogisticRegression(max_iter=100000,random_state=0))\n",
        "clf4.fit(x_train,y_train)\n",
        "y_score = clf4.decision_function(x_test)\n",
        "plot_ROC(y_test,y_score,'Logistic Regression')"
      ],
      "execution_count": null,
      "outputs": []
    },
    {
      "cell_type": "code",
      "metadata": {
        "id": "ZlP4WnGMwo2l"
      },
      "source": [
        "#Support Vector Machine with rbf kernel ML model is best among the given models based on ROC curve analysis."
      ],
      "execution_count": null,
      "outputs": []
    }
  ]
}